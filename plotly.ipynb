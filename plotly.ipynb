{
 "cells": [
  {
   "cell_type": "code",
   "execution_count": 2,
   "metadata": {
    "collapsed": true
   },
   "outputs": [],
   "source": [
    "import pandas as pd\n",
    "pd.set_option('max_rows', 10)\n",
    "from sample import *"
   ]
  },
  {
   "cell_type": "code",
   "execution_count": 3,
   "metadata": {
    "collapsed": false
   },
   "outputs": [
    {
     "data": {
      "text/html": [
       "<div>\n",
       "<table border=\"1\" class=\"dataframe\">\n",
       "  <thead>\n",
       "    <tr style=\"text-align: right;\">\n",
       "      <th></th>\n",
       "      <th>A</th>\n",
       "      <th>B</th>\n",
       "      <th>C</th>\n",
       "    </tr>\n",
       "  </thead>\n",
       "  <tbody>\n",
       "    <tr>\n",
       "      <th>2015-01-01</th>\n",
       "      <td>800.477693</td>\n",
       "      <td>800.876280</td>\n",
       "      <td>799.387990</td>\n",
       "    </tr>\n",
       "    <tr>\n",
       "      <th>2015-01-02</th>\n",
       "      <td>801.212282</td>\n",
       "      <td>799.250791</td>\n",
       "      <td>800.002716</td>\n",
       "    </tr>\n",
       "    <tr>\n",
       "      <th>2015-01-03</th>\n",
       "      <td>802.263097</td>\n",
       "      <td>798.410404</td>\n",
       "      <td>799.803626</td>\n",
       "    </tr>\n",
       "    <tr>\n",
       "      <th>2015-01-04</th>\n",
       "      <td>802.266535</td>\n",
       "      <td>798.272124</td>\n",
       "      <td>800.782541</td>\n",
       "    </tr>\n",
       "    <tr>\n",
       "      <th>2015-01-05</th>\n",
       "      <td>802.826791</td>\n",
       "      <td>800.308049</td>\n",
       "      <td>800.649357</td>\n",
       "    </tr>\n",
       "    <tr>\n",
       "      <th>...</th>\n",
       "      <td>...</td>\n",
       "      <td>...</td>\n",
       "      <td>...</td>\n",
       "    </tr>\n",
       "    <tr>\n",
       "      <th>2016-08-18</th>\n",
       "      <td>811.228658</td>\n",
       "      <td>792.008967</td>\n",
       "      <td>814.099113</td>\n",
       "    </tr>\n",
       "    <tr>\n",
       "      <th>2016-08-19</th>\n",
       "      <td>809.922356</td>\n",
       "      <td>793.533271</td>\n",
       "      <td>815.201009</td>\n",
       "    </tr>\n",
       "    <tr>\n",
       "      <th>2016-08-20</th>\n",
       "      <td>809.055710</td>\n",
       "      <td>793.631633</td>\n",
       "      <td>815.988948</td>\n",
       "    </tr>\n",
       "    <tr>\n",
       "      <th>2016-08-21</th>\n",
       "      <td>808.017276</td>\n",
       "      <td>792.269275</td>\n",
       "      <td>815.359465</td>\n",
       "    </tr>\n",
       "    <tr>\n",
       "      <th>2016-08-22</th>\n",
       "      <td>807.435643</td>\n",
       "      <td>792.948130</td>\n",
       "      <td>815.814875</td>\n",
       "    </tr>\n",
       "  </tbody>\n",
       "</table>\n",
       "<p>600 rows × 3 columns</p>\n",
       "</div>"
      ],
      "text/plain": [
       "                     A           B           C\n",
       "2015-01-01  800.477693  800.876280  799.387990\n",
       "2015-01-02  801.212282  799.250791  800.002716\n",
       "2015-01-03  802.263097  798.410404  799.803626\n",
       "2015-01-04  802.266535  798.272124  800.782541\n",
       "2015-01-05  802.826791  800.308049  800.649357\n",
       "...                ...         ...         ...\n",
       "2016-08-18  811.228658  792.008967  814.099113\n",
       "2016-08-19  809.922356  793.533271  815.201009\n",
       "2016-08-20  809.055710  793.631633  815.988948\n",
       "2016-08-21  808.017276  792.269275  815.359465\n",
       "2016-08-22  807.435643  792.948130  815.814875\n",
       "\n",
       "[600 rows x 3 columns]"
      ]
     },
     "execution_count": 3,
     "metadata": {},
     "output_type": "execute_result"
    }
   ],
   "source": [
    "df = random_walk_df()\n",
    "df"
   ]
  },
  {
   "cell_type": "code",
   "execution_count": 12,
   "metadata": {
    "collapsed": false
   },
   "outputs": [
    {
     "data": {
      "text/html": [
       "<iframe id=\"igraph\" scrolling=\"no\" style=\"border:none;\"seamless=\"seamless\" src=\"https://plot.ly/~SebastienCelles/30.embed\" height=\"525px\" width=\"100%\"></iframe>"
      ],
      "text/plain": [
       "<plotly.tools.PlotlyDisplay object>"
      ]
     },
     "execution_count": 12,
     "metadata": {},
     "output_type": "execute_result"
    }
   ],
   "source": [
    "import plotly.plotly as py\n",
    "from plotly.graph_objs import *\n",
    "\n",
    "data = [Scatter(x=df.index.to_datetime(), y=df[col], name = col) for col in df.columns]\n",
    "\n",
    "layout = Layout(\n",
    "    title='Random walk plot with pandas',\n",
    "    yaxis=YAxis(title='random distribution'),\n",
    "    xaxis=XAxis(title='linspace')\n",
    ")\n",
    "\n",
    "fig = Figure(data=data, layout=layout)\n",
    "\n",
    "# IPython notebook\n",
    "py.iplot(fig, filename='pandas/line-plot-title')\n",
    "\n",
    "#url = py.plot(fig, filename='pandas/line-plot-title')"
   ]
  }
 ],
 "metadata": {
  "kernelspec": {
   "display_name": "Python 3",
   "language": "python",
   "name": "python3"
  },
  "language_info": {
   "codemirror_mode": {
    "name": "ipython",
    "version": 3
   },
   "file_extension": ".py",
   "mimetype": "text/x-python",
   "name": "python",
   "nbconvert_exporter": "python",
   "pygments_lexer": "ipython3",
   "version": "3.4.3"
  }
 },
 "nbformat": 4,
 "nbformat_minor": 0
}
